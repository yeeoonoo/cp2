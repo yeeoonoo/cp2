{
  "nbformat": 4,
  "nbformat_minor": 0,
  "metadata": {
    "colab": {
      "provenance": []
    },
    "kernelspec": {
      "name": "python3",
      "display_name": "Python 3"
    },
    "language_info": {
      "name": "python"
    }
  },
  "cells": [
    {
      "cell_type": "code",
      "source": [
        "from google.colab import drive\n",
        "drive.mount('/content/drive')"
      ],
      "metadata": {
        "colab": {
          "base_uri": "https://localhost:8080/"
        },
        "id": "QKn8ZBo0ZPfU",
        "outputId": "fafbfe85-f0c7-402c-f4b7-c4726ae7e07d"
      },
      "execution_count": null,
      "outputs": [
        {
          "output_type": "stream",
          "name": "stdout",
          "text": [
            "Mounted at /content/drive\n"
          ]
        }
      ]
    },
    {
      "cell_type": "code",
      "source": [
        "import pandas as pd\n",
        "import numpy as np\n",
        "import os\n",
        "import matplotlib.pyplot as plt\n",
        "import seaborn as sns\n",
        "from math import sqrt\n",
        "from tqdm import tqdm\n",
        "from sklearn.metrics.pairwise import cosine_similarity\n",
        "from sklearn.model_selection import train_test_split\n",
        "from sklearn.metrics import mean_squared_error\n",
        "import torch\n",
        "from torch import nn\n",
        "from torch.nn import Module\n",
        "import torch.nn.functional as F\n",
        "from sklearn.preprocessing import LabelEncoder"
      ],
      "metadata": {
        "id": "XZbkpfNURbOO"
      },
      "execution_count": null,
      "outputs": []
    },
    {
      "cell_type": "code",
      "source": [
        "rating_path = '/content/drive/MyDrive/movielens_100k/ml-100k/u.data'\n",
        "item_path = '/content/drive/MyDrive/movielens_100k/ml-100k/u.item'\n",
        "user_path = '/content/drive/MyDrive/movielens_100k/ml-100k/u.user'"
      ],
      "metadata": {
        "id": "zaZ5VTlufC-Y"
      },
      "execution_count": null,
      "outputs": []
    },
    {
      "cell_type": "code",
      "source": [
        "df_rating = pd.read_csv(rating_path, sep='\\t', header=None, names=['user_id', 'movie_id', 'rating', 'timestamp'])"
      ],
      "metadata": {
        "id": "KWTNFYaEyCg2"
      },
      "execution_count": null,
      "outputs": []
    },
    {
      "cell_type": "code",
      "source": [
        "user_le = LabelEncoder()\n",
        "item_le = LabelEncoder()\n",
        "df_rating['user_id_idx'] = user_le.fit_transform(df_rating['user_id'].values)\n",
        "df_rating['item_id_idx'] = item_le.fit_transform(df_rating['movie_id'].values)\n",
        "num_users = df_rating['user_id'].unique().shape[0]\n",
        "num_items = df_rating['movie_id'].unique().shape[0]"
      ],
      "metadata": {
        "id": "GH4oLvP3zNEo"
      },
      "execution_count": null,
      "outputs": []
    },
    {
      "cell_type": "code",
      "source": [
        "mu = torch.tensor(df_rating['rating'].mean())\n",
        "mu"
      ],
      "metadata": {
        "colab": {
          "base_uri": "https://localhost:8080/"
        },
        "id": "BGwrpNQIyEAd",
        "outputId": "87f9eb61-8b33-45c2-c2f1-067a43815755"
      },
      "execution_count": null,
      "outputs": [
        {
          "output_type": "execute_result",
          "data": {
            "text/plain": [
              "tensor(3.5299, dtype=torch.float64)"
            ]
          },
          "metadata": {},
          "execution_count": 5
        }
      ]
    },
    {
      "cell_type": "code",
      "source": [
        "from torch.utils.data import Dataset\n",
        "\n",
        "class MovielensDataset(Dataset):\n",
        "    \"\"\"MovieLens dataset\"\"\"\n",
        "    \n",
        "    def __init__(self,data, train = False, test_ratio = 0.1):\n",
        "        self.data = data\n",
        "        self.train = train\n",
        "        self.test_ratio = test_ratio\n",
        "        \n",
        "        # split data\n",
        "        self.train_data, self.test_data = self.split_train_test_data(self.data,\n",
        "                                                                     test_ratio)\n",
        "        \n",
        "        # train/test confirmed\n",
        "        if self.train == True:\n",
        "            self.data = self.train_data\n",
        "        else:\n",
        "            self.data = self.test_data\n",
        "            \n",
        "        # set user, item, rating    \n",
        "        self.users = torch.tensor(self.data['user_id_idx'].values) \n",
        "        self.items = torch.tensor(self.data['item_id_idx'].values)\n",
        "        self.ratings = torch.tensor(self.data['rating'].values) \n",
        "    \n",
        "\n",
        "    def split_train_test_data(self, data, test_ratio = 0.1):\n",
        "        \"\"\"\n",
        "        train_test_split(data test_size train_size, stratify = self.df['user_id_idx'].values)로 대체 가능\n",
        "        stratify -> Label별 sampling \n",
        "        \"\"\"\n",
        "        user_id_uniq = self.data.user_id.unique()\n",
        "        mask = []\n",
        "        for i in user_id_uniq:\n",
        "            data_user = self.data[self.data['user_id'] == i]\n",
        "            mask.extend([True if x==1 else False for x in np.random.uniform(0,1,len(data_user))<1-test_ratio])\n",
        "        neg_mask = [not x for x in mask]\n",
        "        train_data, test_data = data[mask], data[neg_mask]\n",
        "        return train_data, test_data\n",
        "    \n",
        "    def __len__(self):\n",
        "        return len(self.data)\n",
        "    \n",
        "    def __getitem__(self,idx):\n",
        "        users = self.users[idx]\n",
        "        items = self.items[idx]\n",
        "        ratings = self.ratings[idx]\n",
        "        return (users, items, ratings.float())"
      ],
      "metadata": {
        "id": "-jZ-u3deyQLy"
      },
      "execution_count": null,
      "outputs": []
    },
    {
      "cell_type": "code",
      "source": [
        "class MF(Module):\n",
        "    \"\"\"MF\"\"\"\n",
        "    \n",
        "    def __init__(self, num_factors, num_users, num_items, mu):\n",
        "        super(MF,self).__init__()\n",
        "        # set latent matrix shape\n",
        "        self.P = nn.Embedding(num_users, num_factors)\n",
        "        self.Q = nn.Embedding(num_items, num_factors)\n",
        "        \n",
        "        # set bias shape\n",
        "        self.user_bias = nn.Embedding(num_users,  1)\n",
        "        self.item_bias = nn.Embedding(num_items,  1)\n",
        "        \n",
        "        self.mu = mu\n",
        "        \n",
        "    def forward(self, user_id, item_id):\n",
        "        P_u = self.P(user_id)\n",
        "        Q_i = self.Q(item_id)\n",
        "        b_u = self.user_bias(user_id)\n",
        "        b_i = self.item_bias(item_id)\n",
        "        mu = self.mu\n",
        "        outputs = torch.sum((P_u*Q_i),axis = 1) + torch.squeeze(b_u) + torch.squeeze(b_i) + mu\n",
        "        \n",
        "        return outputs.flatten()"
      ],
      "metadata": {
        "id": "bxPMr1AbyT_c"
      },
      "execution_count": null,
      "outputs": []
    },
    {
      "cell_type": "code",
      "source": [
        "def train(model, trian_iter, loss, optm, device):\n",
        "    model.train()\n",
        "    loss_sum = 0\n",
        "    \n",
        "    for users, items, ratings in trian_iter:\n",
        "        users = users.to(device)\n",
        "        items = items.to(device)\n",
        "        ratings = ratings.to(device)\n",
        "        \n",
        "        preds = model(users, items)\n",
        "        loss_out = loss(preds, ratings)\n",
        "        \n",
        "        # update\n",
        "        optm.zero_grad()\n",
        "        loss_out.backward()\n",
        "        optm.step()\n",
        "        \n",
        "        loss_sum += loss_out.item()\n",
        "    \n",
        "    loss_avg = loss_sum/len(trian_iter)\n",
        "    \n",
        "    return loss_avg"
      ],
      "metadata": {
        "id": "gkykDyrjyXwz"
      },
      "execution_count": null,
      "outputs": []
    },
    {
      "cell_type": "code",
      "source": [
        "def evaluate(model, test_iter, device):    \n",
        "    with torch.no_grad():\n",
        "        model.eval()\n",
        "        loss = nn.MSELoss()\n",
        "        loss_sum = 0\n",
        "        \n",
        "        for idx, (users,items,ratings) in enumerate(test_iter):\n",
        "            users = users.to(device)\n",
        "            items = items.to(device)\n",
        "            ratings = ratings.to(device)\n",
        "            \n",
        "            preds = model(users, items)\n",
        "            \n",
        "            loss_out = loss(preds, ratings)\n",
        "            \n",
        "            loss_sum += loss_out.item()\n",
        "\n",
        "    loss_avg = loss_sum / len(test_iter)\n",
        "    \n",
        "    return loss_avg"
      ],
      "metadata": {
        "id": "GNvUzeIkyY_m"
      },
      "execution_count": null,
      "outputs": []
    },
    {
      "cell_type": "code",
      "source": [
        "device = torch.device('cuda') if torch.cuda.is_available() else torch.device('cpu') # device 설정\n",
        "\n",
        "num_factors = 30 # Latent factor 수\n",
        "batch_size = 128 # 배치사이즈\n",
        "epochs = 31 # 에포크 수\n",
        "lr = 0.005 # 학습률\n",
        "\n",
        "device"
      ],
      "metadata": {
        "colab": {
          "base_uri": "https://localhost:8080/"
        },
        "id": "DTPSVJo7yauT",
        "outputId": "e682f0ae-d65e-4ef9-ee5b-a62237dc1b27"
      },
      "execution_count": null,
      "outputs": [
        {
          "output_type": "execute_result",
          "data": {
            "text/plain": [
              "device(type='cpu')"
            ]
          },
          "metadata": {},
          "execution_count": 10
        }
      ]
    },
    {
      "cell_type": "code",
      "source": [
        "from torch.utils.data import DataLoader\n",
        "\n",
        "# train/test data 불러오기 by Dataset&Dataloader\n",
        "train_dataset = MovielensDataset(data = df_rating, train = True)\n",
        "test_dataset = MovielensDataset(data = df_rating, train = False)\n",
        "\n",
        "train_loader = DataLoader(train_dataset, batch_size = batch_size, shuffle = True)\n",
        "test_loader = DataLoader(test_dataset, batch_size = batch_size, shuffle = True)"
      ],
      "metadata": {
        "id": "wCGHWpI_ycRB"
      },
      "execution_count": null,
      "outputs": []
    },
    {
      "cell_type": "code",
      "source": [
        "# 모델 객체 생성 \n",
        "model = MF(num_factors, num_users, num_items, mu).to(device)\n",
        "loss = nn.MSELoss() # loss 객체\n",
        "optm = torch.optim.Adam(model.parameters(), lr = lr) # optimizer 객체"
      ],
      "metadata": {
        "id": "aYTKGT5FzfiA"
      },
      "execution_count": null,
      "outputs": []
    },
    {
      "cell_type": "code",
      "source": [
        "# 학습\n",
        "train_losses = []\n",
        "test_losses = []\n",
        "\n",
        "for epoch in range(epochs):\n",
        "\n",
        "    train_loss = train(model, train_loader, loss, optm, device)\n",
        "    test_loss = evaluate(model, test_loader, device)\n",
        "\n",
        "    train_losses.append(train_loss)\n",
        "    test_losses.append(test_loss)\n",
        "    \n",
        "    if epoch%5==0:\n",
        "        print(f'epoch: {epoch}, train Loss: {train_loss:.4f}, test Loss: {test_loss:.4f}')\n",
        "\n",
        "        \n",
        "# 그래프\n",
        "fig, ax = plt.subplots(1,1, figsize = (8,5))\n",
        "\n",
        "ax.plot(train_losses, label = 'train_loss',\n",
        "       color = 'red',\n",
        "       marker = '*',\n",
        "       linestyle = '--')\n",
        "ax.plot(test_losses, label = 'test_loss',\n",
        "       color = 'blue',\n",
        "       marker = '.')\n",
        "\n",
        "ax.set_title('Train&test loss')\n",
        "ax.set_xlabel('Epoch')\n",
        "ax.set_ylabel('Loss')\n",
        "ax.legend()\n",
        "plt.show()"
      ],
      "metadata": {
        "colab": {
          "base_uri": "https://localhost:8080/",
          "height": 475
        },
        "id": "4WhZKMdtzvwo",
        "outputId": "af14929b-3bce-447f-9af3-ae6d9537b67d"
      },
      "execution_count": null,
      "outputs": [
        {
          "output_type": "stream",
          "name": "stdout",
          "text": [
            "epoch: 0, train Loss: 22.5346, test Loss: 11.6903\n",
            "epoch: 5, train Loss: 1.0685, test Loss: 0.9603\n",
            "epoch: 10, train Loss: 0.6164, test Loss: 0.6248\n",
            "epoch: 15, train Loss: 0.4827, test Loss: 0.5204\n",
            "epoch: 20, train Loss: 0.4030, test Loss: 0.4591\n",
            "epoch: 25, train Loss: 0.3571, test Loss: 0.4357\n",
            "epoch: 30, train Loss: 0.3284, test Loss: 0.4192\n"
          ]
        },
        {
          "output_type": "display_data",
          "data": {
            "text/plain": [
              "<Figure size 576x360 with 1 Axes>"
            ],
            "image/png": "[encoded data removed]"
          },
          "metadata": {
            "needs_background": "light"
          }
        }
      ]
    }
  ]
}